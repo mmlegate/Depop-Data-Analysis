{
  "nbformat": 4,
  "nbformat_minor": 0,
  "metadata": {
    "colab": {
      "provenance": []
    },
    "kernelspec": {
      "name": "python3",
      "display_name": "Python 3"
    },
    "language_info": {
      "name": "python"
    }
  },
  "cells": [
    {
      "cell_type": "code",
      "execution_count": 10,
      "metadata": {
        "id": "lfSOokkmpoea"
      },
      "outputs": [],
      "source": [
        "import requests\n",
        "import pandas as pd\n",
        "import time\n",
        "import random as rand\n",
        "import numpy as np\n",
        "from PIL import Image\n",
        "import io"
      ]
    },
    {
      "cell_type": "code",
      "source": [
        "from google.colab import drive\n",
        "drive.mount('/content/drive')"
      ],
      "metadata": {
        "colab": {
          "base_uri": "https://localhost:8080/"
        },
        "id": "2A8WTfgo8HtL",
        "outputId": "df91136b-aa66-4f76-d3ca-bb0b400032b3"
      },
      "execution_count": 3,
      "outputs": [
        {
          "output_type": "stream",
          "name": "stdout",
          "text": [
            "Mounted at /content/drive\n"
          ]
        }
      ]
    },
    {
      "cell_type": "code",
      "source": [
        "def get_image(image_url, index):\n",
        "    try:\n",
        "        # Make a request to fetch the image\n",
        "        response = requests.get(image_url)\n",
        "\n",
        "        # Check if the request was successful\n",
        "        if response.status_code == 200:\n",
        "            # Convert image to rgb matrix\n",
        "            img = Image.open(io.BytesIO(response.content)).convert('RGB')\n",
        "            img_resized = img.resize((128, 128), Image.LANCZOS)\n",
        "\n",
        "            # Convert PIL Image to numpy array\n",
        "            rgb_matrix = np.array(img_resized)\n",
        "\n",
        "            # Path to save the RGB matrix in Google Drive\n",
        "            save_path = '/content/drive/MyDrive/depop_images/depop_image_'+ str(index) +'.npy'\n",
        "\n",
        "            # Save the RGB matrix as a NumPy (.npy) file\n",
        "            np.save(save_path, rgb_matrix)\n",
        "\n",
        "        else:\n",
        "            print(f\"Failed to retrieve image from URL: {image_url}\")\n",
        "\n",
        "    except Exception as e:\n",
        "        print(f\"Error saving image from URL {image_url}: {e}\")"
      ],
      "metadata": {
        "id": "-J2jQgyB-nid"
      },
      "execution_count": 18,
      "outputs": []
    },
    {
      "cell_type": "code",
      "source": [
        "# Read CSV file\n",
        "df = pd.read_csv('depop_item_details_complete.csv')\n",
        "\n",
        "for index, image_url in enumerate(df['Image']):\n",
        "    get_image(image_url, index)\n",
        "    time.sleep(rand.uniform(2, 5))"
      ],
      "metadata": {
        "id": "ld2OeuDF8AIM"
      },
      "execution_count": 19,
      "outputs": []
    },
    {
      "cell_type": "code",
      "source": [],
      "metadata": {
        "id": "QWS9ELYMkFLq"
      },
      "execution_count": null,
      "outputs": []
    }
  ]
}